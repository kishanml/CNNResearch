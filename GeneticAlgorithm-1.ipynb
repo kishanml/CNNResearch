{
 "cells": [
  {
   "cell_type": "code",
   "execution_count": 74,
   "id": "3d015e77-32db-4902-84ec-455abcdbff36",
   "metadata": {},
   "outputs": [],
   "source": [
    "import pandas as pd\n",
    "import numpy as np\n",
    "import random\n",
    "from sklearn.model_selection import train_test_split\n"
   ]
  },
  {
   "cell_type": "code",
   "execution_count": 75,
   "id": "c9ce562f-88d7-4fef-aa92-a727a597829d",
   "metadata": {},
   "outputs": [],
   "source": [
    "\n",
    "hyperparameter_space = {\n",
    "    'criterion': ['gini', 'entropy'],  # Splitting criterion\n",
    "    'splitter': ['best', 'random'],  # Strategy to choose the split at each node\n",
    "    'max_depth': [None, 5, 10, 15, 20],  # Maximum depth of the tree\n",
    "    'min_samples_split': [2, 5, 10],  # Minimum number of samples required to split an internal node\n",
    "    'min_samples_leaf': [1, 2, 4],  # Minimum number of samples required to be at a leaf node\n",
    "    'max_features': ['sqrt', 'log2', None],  # Number of features to consider for the best split\n",
    "    'max_leaf_nodes': [None, 10, 20, 30],  # Grow a tree with max_leaf_nodes in best-first fashion\n",
    "    'min_impurity_decrease': [0.0, 0.1, 0.2],  # A node will be split if this split induces a decrease of the impurity greater than or equal to this value\n",
    "    'ccp_alpha': [0.0, 0.1, 0.2]  # Complexity parameter used for Minimal Cost-Complexity Pruning\n",
    "}\n",
    "\n",
    "# Load Titanic dataset from URL\n",
    "url = \"https://raw.githubusercontent.com/datasciencedojo/datasets/master/titanic.csv\"\n",
    "titanic_df = pd.read_csv(url)\n",
    "\n",
    "# Drop unnecessary columns (e.g., Name, Ticket, Cabin) and handle missing values\n",
    "titanic_df = titanic_df.drop(['Name', 'Ticket', 'Cabin', 'PassengerId'], axis=1)\n",
    "titanic_df = titanic_df.dropna()\n",
    "\n",
    "# Convert categorical variables to numerical using one-hot encoding\n",
    "titanic_df = pd.get_dummies(titanic_df, columns=['Sex', 'Embarked'], drop_first=True)\n",
    "\n",
    "# Define features (X) and target variable (y)\n",
    "X = titanic_df.drop('Survived', axis=1)\n",
    "y = titanic_df['Survived']\n",
    "\n",
    "# Split the dataset into training and testing sets\n",
    "X_train, X_test, y_train, y_test = train_test_split(X, y, test_size=0.2, random_state=42)\n"
   ]
  },
  {
   "cell_type": "code",
   "execution_count": 76,
   "id": "2cfa8afa-5834-4b02-ac50-b518a6af2644",
   "metadata": {},
   "outputs": [
    {
     "data": {
      "text/html": [
       "<div>\n",
       "<style scoped>\n",
       "    .dataframe tbody tr th:only-of-type {\n",
       "        vertical-align: middle;\n",
       "    }\n",
       "\n",
       "    .dataframe tbody tr th {\n",
       "        vertical-align: top;\n",
       "    }\n",
       "\n",
       "    .dataframe thead th {\n",
       "        text-align: right;\n",
       "    }\n",
       "</style>\n",
       "<table border=\"1\" class=\"dataframe\">\n",
       "  <thead>\n",
       "    <tr style=\"text-align: right;\">\n",
       "      <th></th>\n",
       "      <th>Survived</th>\n",
       "      <th>Pclass</th>\n",
       "      <th>Age</th>\n",
       "      <th>SibSp</th>\n",
       "      <th>Parch</th>\n",
       "      <th>Fare</th>\n",
       "      <th>Sex_male</th>\n",
       "      <th>Embarked_Q</th>\n",
       "      <th>Embarked_S</th>\n",
       "    </tr>\n",
       "  </thead>\n",
       "  <tbody>\n",
       "    <tr>\n",
       "      <th>0</th>\n",
       "      <td>0</td>\n",
       "      <td>3</td>\n",
       "      <td>22.0</td>\n",
       "      <td>1</td>\n",
       "      <td>0</td>\n",
       "      <td>7.2500</td>\n",
       "      <td>True</td>\n",
       "      <td>False</td>\n",
       "      <td>True</td>\n",
       "    </tr>\n",
       "    <tr>\n",
       "      <th>1</th>\n",
       "      <td>1</td>\n",
       "      <td>1</td>\n",
       "      <td>38.0</td>\n",
       "      <td>1</td>\n",
       "      <td>0</td>\n",
       "      <td>71.2833</td>\n",
       "      <td>False</td>\n",
       "      <td>False</td>\n",
       "      <td>False</td>\n",
       "    </tr>\n",
       "    <tr>\n",
       "      <th>2</th>\n",
       "      <td>1</td>\n",
       "      <td>3</td>\n",
       "      <td>26.0</td>\n",
       "      <td>0</td>\n",
       "      <td>0</td>\n",
       "      <td>7.9250</td>\n",
       "      <td>False</td>\n",
       "      <td>False</td>\n",
       "      <td>True</td>\n",
       "    </tr>\n",
       "    <tr>\n",
       "      <th>3</th>\n",
       "      <td>1</td>\n",
       "      <td>1</td>\n",
       "      <td>35.0</td>\n",
       "      <td>1</td>\n",
       "      <td>0</td>\n",
       "      <td>53.1000</td>\n",
       "      <td>False</td>\n",
       "      <td>False</td>\n",
       "      <td>True</td>\n",
       "    </tr>\n",
       "    <tr>\n",
       "      <th>4</th>\n",
       "      <td>0</td>\n",
       "      <td>3</td>\n",
       "      <td>35.0</td>\n",
       "      <td>0</td>\n",
       "      <td>0</td>\n",
       "      <td>8.0500</td>\n",
       "      <td>True</td>\n",
       "      <td>False</td>\n",
       "      <td>True</td>\n",
       "    </tr>\n",
       "    <tr>\n",
       "      <th>...</th>\n",
       "      <td>...</td>\n",
       "      <td>...</td>\n",
       "      <td>...</td>\n",
       "      <td>...</td>\n",
       "      <td>...</td>\n",
       "      <td>...</td>\n",
       "      <td>...</td>\n",
       "      <td>...</td>\n",
       "      <td>...</td>\n",
       "    </tr>\n",
       "    <tr>\n",
       "      <th>885</th>\n",
       "      <td>0</td>\n",
       "      <td>3</td>\n",
       "      <td>39.0</td>\n",
       "      <td>0</td>\n",
       "      <td>5</td>\n",
       "      <td>29.1250</td>\n",
       "      <td>False</td>\n",
       "      <td>True</td>\n",
       "      <td>False</td>\n",
       "    </tr>\n",
       "    <tr>\n",
       "      <th>886</th>\n",
       "      <td>0</td>\n",
       "      <td>2</td>\n",
       "      <td>27.0</td>\n",
       "      <td>0</td>\n",
       "      <td>0</td>\n",
       "      <td>13.0000</td>\n",
       "      <td>True</td>\n",
       "      <td>False</td>\n",
       "      <td>True</td>\n",
       "    </tr>\n",
       "    <tr>\n",
       "      <th>887</th>\n",
       "      <td>1</td>\n",
       "      <td>1</td>\n",
       "      <td>19.0</td>\n",
       "      <td>0</td>\n",
       "      <td>0</td>\n",
       "      <td>30.0000</td>\n",
       "      <td>False</td>\n",
       "      <td>False</td>\n",
       "      <td>True</td>\n",
       "    </tr>\n",
       "    <tr>\n",
       "      <th>889</th>\n",
       "      <td>1</td>\n",
       "      <td>1</td>\n",
       "      <td>26.0</td>\n",
       "      <td>0</td>\n",
       "      <td>0</td>\n",
       "      <td>30.0000</td>\n",
       "      <td>True</td>\n",
       "      <td>False</td>\n",
       "      <td>False</td>\n",
       "    </tr>\n",
       "    <tr>\n",
       "      <th>890</th>\n",
       "      <td>0</td>\n",
       "      <td>3</td>\n",
       "      <td>32.0</td>\n",
       "      <td>0</td>\n",
       "      <td>0</td>\n",
       "      <td>7.7500</td>\n",
       "      <td>True</td>\n",
       "      <td>True</td>\n",
       "      <td>False</td>\n",
       "    </tr>\n",
       "  </tbody>\n",
       "</table>\n",
       "<p>712 rows × 9 columns</p>\n",
       "</div>"
      ],
      "text/plain": [
       "     Survived  Pclass   Age  SibSp  Parch     Fare  Sex_male  Embarked_Q  \\\n",
       "0           0       3  22.0      1      0   7.2500      True       False   \n",
       "1           1       1  38.0      1      0  71.2833     False       False   \n",
       "2           1       3  26.0      0      0   7.9250     False       False   \n",
       "3           1       1  35.0      1      0  53.1000     False       False   \n",
       "4           0       3  35.0      0      0   8.0500      True       False   \n",
       "..        ...     ...   ...    ...    ...      ...       ...         ...   \n",
       "885         0       3  39.0      0      5  29.1250     False        True   \n",
       "886         0       2  27.0      0      0  13.0000      True       False   \n",
       "887         1       1  19.0      0      0  30.0000     False       False   \n",
       "889         1       1  26.0      0      0  30.0000      True       False   \n",
       "890         0       3  32.0      0      0   7.7500      True        True   \n",
       "\n",
       "     Embarked_S  \n",
       "0          True  \n",
       "1         False  \n",
       "2          True  \n",
       "3          True  \n",
       "4          True  \n",
       "..          ...  \n",
       "885       False  \n",
       "886        True  \n",
       "887        True  \n",
       "889       False  \n",
       "890       False  \n",
       "\n",
       "[712 rows x 9 columns]"
      ]
     },
     "execution_count": 76,
     "metadata": {},
     "output_type": "execute_result"
    }
   ],
   "source": [
    "titanic_df"
   ]
  },
  {
   "cell_type": "markdown",
   "id": "f3f8db3b-d5d1-4e07-b5f6-978f7fe17a69",
   "metadata": {},
   "source": [
    "### Population Intialization : ( Solution Pool )"
   ]
  },
  {
   "cell_type": "code",
   "execution_count": 77,
   "id": "a7bf90ee-61e3-4058-bfb9-7ddaccffa66a",
   "metadata": {},
   "outputs": [],
   "source": [
    "def initialize_population(population_size):\n",
    "    return [{key: random.choice(values) for key, values in hyperparameter_space.items()} for _ in range(population_size)]"
   ]
  },
  {
   "cell_type": "markdown",
   "id": "b2e9a1de-a9aa-49fe-8ef8-2614f2e531eb",
   "metadata": {},
   "source": [
    "### Each hyper-parameter combination here corresponds to genes details of each chromosomes "
   ]
  },
  {
   "cell_type": "code",
   "execution_count": 78,
   "id": "d98d4533-344b-4347-9586-71ce98aa6411",
   "metadata": {},
   "outputs": [
    {
     "data": {
      "text/plain": [
       "[{'criterion': 'entropy',\n",
       "  'splitter': 'best',\n",
       "  'max_depth': 15,\n",
       "  'min_samples_split': 10,\n",
       "  'min_samples_leaf': 1,\n",
       "  'max_features': 'log2',\n",
       "  'max_leaf_nodes': 20,\n",
       "  'min_impurity_decrease': 0.2,\n",
       "  'ccp_alpha': 0.2},\n",
       " {'criterion': 'gini',\n",
       "  'splitter': 'random',\n",
       "  'max_depth': None,\n",
       "  'min_samples_split': 2,\n",
       "  'min_samples_leaf': 4,\n",
       "  'max_features': None,\n",
       "  'max_leaf_nodes': None,\n",
       "  'min_impurity_decrease': 0.0,\n",
       "  'ccp_alpha': 0.1},\n",
       " {'criterion': 'gini',\n",
       "  'splitter': 'best',\n",
       "  'max_depth': 15,\n",
       "  'min_samples_split': 10,\n",
       "  'min_samples_leaf': 1,\n",
       "  'max_features': 'log2',\n",
       "  'max_leaf_nodes': None,\n",
       "  'min_impurity_decrease': 0.2,\n",
       "  'ccp_alpha': 0.2},\n",
       " {'criterion': 'gini',\n",
       "  'splitter': 'best',\n",
       "  'max_depth': None,\n",
       "  'min_samples_split': 2,\n",
       "  'min_samples_leaf': 2,\n",
       "  'max_features': None,\n",
       "  'max_leaf_nodes': 20,\n",
       "  'min_impurity_decrease': 0.1,\n",
       "  'ccp_alpha': 0.0},\n",
       " {'criterion': 'gini',\n",
       "  'splitter': 'best',\n",
       "  'max_depth': 20,\n",
       "  'min_samples_split': 2,\n",
       "  'min_samples_leaf': 1,\n",
       "  'max_features': None,\n",
       "  'max_leaf_nodes': None,\n",
       "  'min_impurity_decrease': 0.1,\n",
       "  'ccp_alpha': 0.0}]"
      ]
     },
     "execution_count": 78,
     "metadata": {},
     "output_type": "execute_result"
    }
   ],
   "source": [
    "population = initialize_population(5)\n",
    "population"
   ]
  },
  {
   "cell_type": "markdown",
   "id": "b583f694-7f69-4640-9d6e-ffe3f19afe83",
   "metadata": {},
   "source": [
    "## Crossover"
   ]
  },
  {
   "cell_type": "code",
   "execution_count": 79,
   "id": "95f6b29b-231d-477c-8e26-a35b529de857",
   "metadata": {},
   "outputs": [],
   "source": [
    "def crossover(parent1, parent2):\n",
    "    # Generating a random crossover point\n",
    "    crossover_point = np.random.randint(1, len(parent1))\n",
    "    # Altering the parent choromosomes\n",
    "    child1 = dict(list(parent1.items())[:crossover_point] + list(parent2.items())[crossover_point:])\n",
    "    child2 = dict(list(parent2.items())[:crossover_point] + list(parent1.items())[crossover_point:])\n",
    "    return child1, child2"
   ]
  },
  {
   "cell_type": "code",
   "execution_count": 80,
   "id": "e7ce43fd-5659-4f0f-b25b-9017b46abc1a",
   "metadata": {},
   "outputs": [
    {
     "data": {
      "text/plain": [
       "{'criterion': 'gini',\n",
       " 'splitter': 'best',\n",
       " 'max_depth': 15,\n",
       " 'min_samples_split': 10,\n",
       " 'min_samples_leaf': 1,\n",
       " 'max_features': 'log2',\n",
       " 'max_leaf_nodes': None,\n",
       " 'min_impurity_decrease': 0.2,\n",
       " 'ccp_alpha': 0.2}"
      ]
     },
     "execution_count": 80,
     "metadata": {},
     "output_type": "execute_result"
    }
   ],
   "source": [
    "p1,p2 = np.random.randint(0,5,2)\n",
    "parent_1 = population[p1]\n",
    "parent_2 = population[p2]\n",
    "parent_1"
   ]
  },
  {
   "cell_type": "code",
   "execution_count": 81,
   "id": "d15a252a-0523-43d5-a60f-df5c0f9112f0",
   "metadata": {},
   "outputs": [
    {
     "data": {
      "text/plain": [
       "{'criterion': 'entropy',\n",
       " 'splitter': 'best',\n",
       " 'max_depth': 15,\n",
       " 'min_samples_split': 10,\n",
       " 'min_samples_leaf': 1,\n",
       " 'max_features': 'log2',\n",
       " 'max_leaf_nodes': 20,\n",
       " 'min_impurity_decrease': 0.2,\n",
       " 'ccp_alpha': 0.2}"
      ]
     },
     "execution_count": 81,
     "metadata": {},
     "output_type": "execute_result"
    }
   ],
   "source": [
    "parent_2"
   ]
  },
  {
   "cell_type": "markdown",
   "id": "4d98cf71-0895-4309-b734-bce269898e4c",
   "metadata": {},
   "source": [
    "### Around crossover-point of propeties of parent_1 and rest parent_2 properties is given to a child and vice-versa"
   ]
  },
  {
   "cell_type": "code",
   "execution_count": 82,
   "id": "e8692275-269d-495e-a0bc-55a52def63b0",
   "metadata": {},
   "outputs": [
    {
     "data": {
      "text/plain": [
       "{'criterion': 'gini',\n",
       " 'splitter': 'best',\n",
       " 'max_depth': 15,\n",
       " 'min_samples_split': 10,\n",
       " 'min_samples_leaf': 1,\n",
       " 'max_features': 'log2',\n",
       " 'max_leaf_nodes': None,\n",
       " 'min_impurity_decrease': 0.2,\n",
       " 'ccp_alpha': 0.2}"
      ]
     },
     "execution_count": 82,
     "metadata": {},
     "output_type": "execute_result"
    }
   ],
   "source": [
    "child_1 , child_2 = crossover(parent_1,parent_2)\n",
    "child_1"
   ]
  },
  {
   "cell_type": "code",
   "execution_count": 83,
   "id": "aa7ab77a-d84b-4513-96e4-249bb52b5d8f",
   "metadata": {},
   "outputs": [
    {
     "data": {
      "text/plain": [
       "{'criterion': 'entropy',\n",
       " 'splitter': 'best',\n",
       " 'max_depth': 15,\n",
       " 'min_samples_split': 10,\n",
       " 'min_samples_leaf': 1,\n",
       " 'max_features': 'log2',\n",
       " 'max_leaf_nodes': 20,\n",
       " 'min_impurity_decrease': 0.2,\n",
       " 'ccp_alpha': 0.2}"
      ]
     },
     "execution_count": 83,
     "metadata": {},
     "output_type": "execute_result"
    }
   ],
   "source": [
    "child_2"
   ]
  },
  {
   "cell_type": "markdown",
   "id": "acc02cd7-b12b-4670-924c-c91702879096",
   "metadata": {},
   "source": [
    "## Mutation"
   ]
  },
  {
   "cell_type": "code",
   "execution_count": 84,
   "id": "502f2d4c-0fd5-4a78-96d5-3730c5557415",
   "metadata": {},
   "outputs": [],
   "source": [
    "def mutate(individual, mutation_rate):\n",
    "    # Randomly selecting mutating genes\n",
    "    mask = np.random.rand(len(individual)) < mutation_rate\n",
    "    # print(\"mask\",mask)\n",
    "    # Labeling the genes\n",
    "    genes = [item for i, item in enumerate(individual.items()) if mask[i]]\n",
    "    # print('genes',genes)\n",
    "    # Creating new variations for labeled genes\n",
    "    new_genes = [(param, random.choice(hyperparameter_space[param])) for param, value in genes]\n",
    "    for param, value in new_genes:\n",
    "        individual[param] = value\n",
    "    return individual"
   ]
  },
  {
   "cell_type": "markdown",
   "id": "1294ea79-b91b-44b8-81f8-aaf376851cdb",
   "metadata": {},
   "source": [
    "### As generations increase, new changes besides the parent's genes are observed in the offspring. In this process, some random hyperparameter values are adjusted to provide an optimal offspring."
   ]
  },
  {
   "cell_type": "code",
   "execution_count": 85,
   "id": "131c86a4-481e-4c56-9330-f6cd614b7e86",
   "metadata": {},
   "outputs": [
    {
     "data": {
      "text/plain": [
       "{'criterion': 'gini',\n",
       " 'splitter': 'best',\n",
       " 'max_depth': 15,\n",
       " 'min_samples_split': 5,\n",
       " 'min_samples_leaf': 1,\n",
       " 'max_features': 'log2',\n",
       " 'max_leaf_nodes': None,\n",
       " 'min_impurity_decrease': 0.2,\n",
       " 'ccp_alpha': 0.2}"
      ]
     },
     "execution_count": 85,
     "metadata": {},
     "output_type": "execute_result"
    }
   ],
   "source": [
    "mutated_child = mutate(child_1,0.1)\n",
    "mutated_child"
   ]
  },
  {
   "cell_type": "markdown",
   "id": "65978ada-4bd5-4a62-bf8d-d86b5c75514b",
   "metadata": {},
   "source": [
    "## Fitness : ( Performance Optimizer ) "
   ]
  },
  {
   "cell_type": "code",
   "execution_count": 86,
   "id": "5d31c4b0-d4fd-4742-a0d1-f0574077b313",
   "metadata": {},
   "outputs": [],
   "source": [
    "from sklearn.tree import DecisionTreeClassifier\n",
    "from sklearn.metrics import accuracy_score\n",
    "\n",
    "def calculate_fitness(y_test, parameters):\n",
    "    # Create a Decision Tree model\n",
    "    dt_model = DecisionTreeClassifier(random_state=42, **parameters)\n",
    "    # Fit the model on the training data\n",
    "    dt_model.fit(X_train, y_train)\n",
    "    # Make predictions on the testing data\n",
    "    y_pred = dt_model.predict(X_test)\n",
    "    # Evaluate the model\n",
    "    accuracy = accuracy_score(y_test, y_pred)\n",
    "    return accuracy"
   ]
  },
  {
   "cell_type": "code",
   "execution_count": 87,
   "id": "3e430ca9-4818-4223-af80-51ad1bce1839",
   "metadata": {},
   "outputs": [
    {
     "data": {
      "text/plain": [
       "0.5594405594405595"
      ]
     },
     "execution_count": 87,
     "metadata": {},
     "output_type": "execute_result"
    }
   ],
   "source": [
    "calculate_fitness(y_test,mutated_child)"
   ]
  },
  {
   "cell_type": "markdown",
   "id": "3c7fda31-9402-49a0-bbb0-1be2dacd2778",
   "metadata": {},
   "source": [
    "## Genetic Algorithm"
   ]
  },
  {
   "cell_type": "code",
   "execution_count": 91,
   "id": "a372bf2d-b9cc-40fc-8211-acd0825b3692",
   "metadata": {},
   "outputs": [],
   "source": [
    "def genetic_algorithm(y_test, population_size=15, generations=100, mutation_rate=0.1):\n",
    "    # Initializing the first population\n",
    "    population = initialize_population(population_size)\n",
    "    # Looping through each generation\n",
    "    for generation in range(generations):\n",
    "        # Calculating the fitness scores of first population\n",
    "        fitness_scores = [calculate_fitness(y_test, parameters) for parameters in population]\n",
    "        # Selecting the top 2 performing parents\n",
    "        idx_best_2 = np.argsort(fitness_scores)[::-1][:2]\n",
    "        # Adding parents to the new population\n",
    "        new_population = [population[i] for i in idx_best_2]\n",
    "        \n",
    "        \n",
    "        # Creating the offsprings\n",
    "        for _ in range(int((len(population) / 2) - 1)):\n",
    "            \n",
    "            parent1 = new_population[0]\n",
    "            parent2 = new_population[1]\n",
    "            # Crossing over the parent choromosomes\n",
    "            child1, child2 = crossover(parent1, parent2)\n",
    "            # Mutating the genes\n",
    "            child1 = mutate(child1, mutation_rate)\n",
    "            child2 = mutate(child2, mutation_rate)\n",
    "            # Adding new offsprings to population\n",
    "            new_population.extend([child1, child2])\n",
    "        \n",
    "        population = np.array(new_population)\n",
    "        new_scores = [calculate_fitness(y_test, parameters) for parameters in population]\n",
    "    # Selecting the best performing choromosome\n",
    "    best_parameters = population[np.argmax(new_scores)]\n",
    "    best_score = max(new_scores)\n",
    "    return best_parameters, best_score"
   ]
  },
  {
   "cell_type": "code",
   "execution_count": 92,
   "id": "7a2381a4-4824-476f-a7d1-310156d5d3dd",
   "metadata": {},
   "outputs": [
    {
     "name": "stdout",
     "output_type": "stream",
     "text": [
      "Best Parameters: {'criterion': 'gini', 'splitter': 'random', 'max_depth': 5, 'min_samples_split': 5, 'min_samples_leaf': 1, 'max_features': None, 'max_leaf_nodes': 30, 'min_impurity_decrease': 0.0, 'ccp_alpha': 0.0}\n",
      "Best Score: 0.8181818181818182\n",
      "CPU times: user 6.25 s, sys: 951 μs, total: 6.25 s\n",
      "Wall time: 6.25 s\n"
     ]
    }
   ],
   "source": [
    "%%time\n",
    "best_parameters, best_score = genetic_algorithm(y_test)\n",
    "\n",
    "print(\"Best Parameters:\", best_parameters)\n",
    "print(\"Best Score:\", best_score)"
   ]
  },
  {
   "cell_type": "markdown",
   "id": "43d3d09f-319f-4349-bf3c-642b7ba509f5",
   "metadata": {},
   "source": [
    "## Testing with GridSearch"
   ]
  },
  {
   "cell_type": "code",
   "execution_count": 72,
   "id": "d270b540-1c8e-4ce4-8356-b6a201f8ad0b",
   "metadata": {},
   "outputs": [
    {
     "name": "stdout",
     "output_type": "stream",
     "text": [
      "Number of combinations: 19440\n",
      "Sample combination: {'criterion': 'gini', 'splitter': 'best', 'max_depth': None, 'min_samples_split': 2, 'min_samples_leaf': 1, 'max_features': 'sqrt', 'max_leaf_nodes': None, 'min_impurity_decrease': 0.0, 'ccp_alpha': 0.0}\n"
     ]
    }
   ],
   "source": [
    "from itertools import product\n",
    "\n",
    "# Generate all possible hyperparameter combinations\n",
    "all_combinations = list(product(*hyperparameter_space.values()))\n",
    "# Convert the combinations into dictionaries\n",
    "hyperparameter_combinations = [dict(zip(hyperparameter_space.keys(), values)) for values in all_combinations]\n",
    "\n",
    "# Print the number of combinations and a sample combination\n",
    "print(\"Number of combinations:\", len(hyperparameter_combinations))\n",
    "print(\"Sample combination:\", hyperparameter_combinations[0])"
   ]
  },
  {
   "cell_type": "code",
   "execution_count": 73,
   "id": "b35c647f-e028-46e4-bfef-54189405963e",
   "metadata": {},
   "outputs": [
    {
     "name": "stdout",
     "output_type": "stream",
     "text": [
      "Best Parameters: {'criterion': 'gini', 'splitter': 'random', 'max_depth': 5, 'min_samples_split': 2, 'min_samples_leaf': 2, 'max_features': None, 'max_leaf_nodes': 30, 'min_impurity_decrease': 0.0, 'ccp_alpha': 0.0}\n",
      "Best Score: 0.8181818181818182\n",
      "CPU times: user 44.7 s, sys: 23.3 ms, total: 44.7 s\n",
      "Wall time: 44.7 s\n"
     ]
    }
   ],
   "source": [
    "%%time\n",
    "accuracies = []\n",
    "for parameters in hyperparameter_combinations:\n",
    "    accuracies.append(calculate_fitness(y_test, parameters))\n",
    "\n",
    "best_score = np.argmax(accuracies)\n",
    "print(\"Best Parameters:\", hyperparameter_combinations[best_score])\n",
    "print(\"Best Score:\", accuracies[best_score])"
   ]
  },
  {
   "cell_type": "markdown",
   "id": "462f4d7a-925a-43aa-bf9b-0db2b8a16a30",
   "metadata": {},
   "source": [
    "## Testing with RandomSearch"
   ]
  },
  {
   "cell_type": "code",
   "execution_count": 94,
   "id": "c24a1753-88af-402d-bc11-1c87beb3e167",
   "metadata": {},
   "outputs": [
    {
     "name": "stdout",
     "output_type": "stream",
     "text": [
      "Best Parameters: {'criterion': 'entropy', 'splitter': 'random', 'max_depth': 20, 'min_samples_split': 10, 'min_samples_leaf': 1, 'max_features': 'sqrt', 'max_leaf_nodes': 30, 'min_impurity_decrease': 0.0, 'ccp_alpha': 0.0}\n",
      "Best Score: 0.7972027972027972\n",
      "CPU times: user 2.27 s, sys: 986 μs, total: 2.27 s\n",
      "Wall time: 2.27 s\n"
     ]
    }
   ],
   "source": [
    "%%time\n",
    "random.shuffle(hyperparameter_combinations)\n",
    "accuracies = []\n",
    "for parameters in hyperparameter_combinations[:1000]:\n",
    "    accuracies.append(calculate_fitness(y_test, parameters))\n",
    "\n",
    "best_score = np.argmax(accuracies)\n",
    "print(\"Best Parameters:\", hyperparameter_combinations[best_score])\n",
    "print(\"Best Score:\",accuracies[best_score])"
   ]
  },
  {
   "cell_type": "code",
   "execution_count": null,
   "id": "fc3e564b-a139-4115-9efa-0af5fcf59be1",
   "metadata": {},
   "outputs": [],
   "source": []
  }
 ],
 "metadata": {
  "kernelspec": {
   "display_name": "Python 3 (ipykernel)",
   "language": "python",
   "name": "python3"
  },
  "language_info": {
   "codemirror_mode": {
    "name": "ipython",
    "version": 3
   },
   "file_extension": ".py",
   "mimetype": "text/x-python",
   "name": "python",
   "nbconvert_exporter": "python",
   "pygments_lexer": "ipython3",
   "version": "3.10.0"
  }
 },
 "nbformat": 4,
 "nbformat_minor": 5
}
